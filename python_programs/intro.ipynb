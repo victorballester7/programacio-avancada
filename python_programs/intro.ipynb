{
 "cells": [
  {
   "cell_type": "code",
   "execution_count": 8,
   "metadata": {},
   "outputs": [
    {
     "name": "stdout",
     "output_type": "stream",
     "text": [
      "L'índex 0 és 10\n",
      "L'índex 0 és 10\n",
      "L'índex 0 és 10\n",
      "L'índex 1 és 20\n",
      "L'índex 1 és 20\n",
      "L'índex 1 és 20\n",
      "L'índex 2 és 30\n",
      "L'índex 2 és 30\n",
      "L'índex 2 és 30\n"
     ]
    }
   ],
   "source": [
    "v=[10,20,30]\n",
    "for i,valor in enumerate(v): \n",
    "  print(\"L'índex\",i,\"és\",valor)\n",
    "  print(\"L'índex \" + str(i) +\" és \"+ str(valor))\n",
    "  print(f\"L'índex {i} és {valor}\")\n"
   ]
  },
  {
   "cell_type": "code",
   "execution_count": 35,
   "metadata": {},
   "outputs": [
    {
     "name": "stdout",
     "output_type": "stream",
     "text": [
      "3+5i\n",
      "True\n"
     ]
    }
   ],
   "source": [
    "class Complex: \n",
    "  def __init__(self,real,imag) -> None:\n",
    "    self.real = real\n",
    "    self.imag = imag\n",
    "\n",
    "  def __str__(self) -> str:\n",
    "    if self.imag<0:\n",
    "      return f\"{self.real}{self.imag}i\"\n",
    "    elif self.imag == 0:\n",
    "      return f\"{self.real}\"\n",
    "    else:\n",
    "      return f\"{self.real}+{self.imag}i\"\n",
    "c1=Complex(3,5)\n",
    "print(c1)\n",
    "if c1 is Complex:\n",
    "  print(True)"
   ]
  },
  {
   "cell_type": "code",
   "execution_count": 25,
   "metadata": {},
   "outputs": [
    {
     "name": "stdout",
     "output_type": "stream",
     "text": [
      "[10, 20, 30, 40, 40, 40, 40, 40, 60, 40, 60]\n",
      "[10, 20, 30, 40, 40, 40, 40, 40, 60, 40, 100, 200, 300]\n"
     ]
    }
   ],
   "source": [
    "v.append(40)\n",
    "w=[100,200,300]\n",
    "z=v+w\n",
    "v+=[60]\n",
    "print(v)\n",
    "print(z)"
   ]
  },
  {
   "cell_type": "code",
   "execution_count": 26,
   "metadata": {},
   "outputs": [
    {
     "name": "stdout",
     "output_type": "stream",
     "text": [
      "(10, 20, 30)\n"
     ]
    }
   ],
   "source": [
    "t = (10,20,30)\n",
    "print(t)"
   ]
  },
  {
   "cell_type": "code",
   "execution_count": 28,
   "metadata": {},
   "outputs": [
    {
     "name": "stdout",
     "output_type": "stream",
     "text": [
      "20000\n",
      "{'science': 20000, 'humanities': 15000, 'languages': 10000, 'medicine': 3000}\n"
     ]
    }
   ],
   "source": [
    "# dictionary\n",
    "d = {\n",
    "  \"science\": 20_000,\n",
    "  \"humanities\": 15_000,\n",
    "  \"languages\": 10_000\n",
    "}\n",
    "\n",
    "print(d[\"science\"])\n",
    "d[\"medicine\"]=3_000\n",
    "print(d)"
   ]
  },
  {
   "cell_type": "code",
   "execution_count": 31,
   "metadata": {},
   "outputs": [
    {
     "name": "stdout",
     "output_type": "stream",
     "text": [
      "Trobat!\n"
     ]
    }
   ],
   "source": [
    "# sets\n",
    "c={10,20,30}\n",
    "if 10 in c:\n",
    "  print(\"Trobat!\")"
   ]
  },
  {
   "cell_type": "code",
   "execution_count": 33,
   "metadata": {},
   "outputs": [
    {
     "name": "stdout",
     "output_type": "stream",
     "text": [
      "10 20\n",
      "20 10\n"
     ]
    }
   ],
   "source": [
    "# swapping of variables\n",
    "a=10\n",
    "b=20\n",
    "print(a,b)\n",
    "a,b=b,a\n",
    "print(a,b)"
   ]
  },
  {
   "cell_type": "code",
   "execution_count": null,
   "metadata": {},
   "outputs": [],
   "source": []
  }
 ],
 "metadata": {
  "kernelspec": {
   "display_name": "Python 3.10.8 64-bit",
   "language": "python",
   "name": "python3"
  },
  "language_info": {
   "codemirror_mode": {
    "name": "ipython",
    "version": 3
   },
   "file_extension": ".py",
   "mimetype": "text/x-python",
   "name": "python",
   "nbconvert_exporter": "python",
   "pygments_lexer": "ipython3",
   "version": "3.10.8 (main, Nov  1 2022, 14:18:21) [GCC 12.2.0]"
  },
  "orig_nbformat": 4,
  "vscode": {
   "interpreter": {
    "hash": "916dbcbb3f70747c44a77c7bcd40155683ae19c65e1c03b4aa3499c5328201f1"
   }
  }
 },
 "nbformat": 4,
 "nbformat_minor": 2
}
