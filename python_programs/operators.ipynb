{
 "cells": [
  {
   "cell_type": "code",
   "execution_count": 27,
   "metadata": {},
   "outputs": [],
   "source": [
    "class Punt:\n",
    "  numPunts = 0 # static variable\n",
    "  def __init__(self, x, y) -> None:\n",
    "    self.x = x\n",
    "    self.y = y\n",
    "    Punt.numPunts +=1\n",
    "  def __str__(self) -> str:\n",
    "    return f\"({self.x}, {self.y})\"\n",
    "  def __repr__(self) -> str: # for printing lists\n",
    "    return str(self)\n",
    "  def __add__(self, p): # operator for doing p1 + p = p1.__add__(p) \n",
    "    # Other opperators are: __sub__, __mult__, __div__...\n",
    "    # if type(p) is int or type(p) is float:\n",
    "    if isinstance(p, Punt):\n",
    "      return Punt(self.x + p.x, self.y + p.y)\n",
    "    else:\n",
    "      return Punt(self.x + p, self.y + p)\n",
    "  def __sub__(self, p): \n",
    "    if isinstance(p, Punt):\n",
    "      return Punt(self.x - p.x, self.y - p.y)\n",
    "    else:\n",
    "      return Punt(self.x - p, self.y - p)\n",
    "  def __radd__(self, c): # right sum. c can only be a constant: c + p \n",
    "    return Punt(self.x + c, self.y + c)\n",
    "\n",
    "class Recta:\n",
    "  def __init__(self, p1, p2) -> None:\n",
    "    self.p1 = p1\n",
    "    self.p2 = p1\n",
    "  def isParallel(self, r):\n",
    "    if self.m()==r.m():\n",
    "       return True\n",
    "    return False\n",
    "  def m(self):\n",
    "    return (self.p1.y - self.p2.y) / (self.p1.x - self.p2.x)\n"
   ]
  },
  {
   "cell_type": "code",
   "execution_count": 28,
   "metadata": {},
   "outputs": [
    {
     "name": "stdout",
     "output_type": "stream",
     "text": [
      "(3, 4) (2, 5) (8.45, 12.45) (6.45, 7.45) (6.45, 7.45)\n",
      "6\n"
     ]
    }
   ],
   "source": [
    "p1 = Punt(3, 4)\n",
    "p2 = Punt(2, 5)\n",
    "p3 = p1 + p2 + 3.45\n",
    "p4 = p1 + 3.45\n",
    "p5 = 3.45 + p1\n",
    "print(p1, p2, p3, p4, p5)\n",
    "print(Punt.numPunts)"
   ]
  },
  {
   "cell_type": "code",
   "execution_count": 25,
   "metadata": {},
   "outputs": [
    {
     "name": "stdout",
     "output_type": "stream",
     "text": [
      "(3, 4)\n",
      "(2, 5)\n",
      "(8.45, 12.45)\n",
      "(6.45, 7.45)\n",
      "(6.45, 7.45)\n"
     ]
    }
   ],
   "source": [
    "punts = [p1, p2, p3, p4, p5]\n",
    "for p in punts:\n",
    "  print(p)"
   ]
  },
  {
   "cell_type": "code",
   "execution_count": 41,
   "metadata": {},
   "outputs": [],
   "source": [
    "v = range(10)"
   ]
  },
  {
   "cell_type": "code",
   "execution_count": 42,
   "metadata": {},
   "outputs": [
    {
     "name": "stdout",
     "output_type": "stream",
     "text": [
      "range(2, 5)\n"
     ]
    }
   ],
   "source": [
    "print(v[2:5])"
   ]
  },
  {
   "cell_type": "code",
   "execution_count": 43,
   "metadata": {},
   "outputs": [
    {
     "data": {
      "text/plain": [
       "[16, 25, 49, 0, 0]"
      ]
     },
     "execution_count": 43,
     "metadata": {},
     "output_type": "execute_result"
    }
   ],
   "source": [
    "v = [x**2 if x**2<50 else 0 for x in range(10) if x > 3 and x != 6]\n",
    "v"
   ]
  },
  {
   "cell_type": "code",
   "execution_count": 45,
   "metadata": {},
   "outputs": [
    {
     "data": {
      "text/plain": [
       "1"
      ]
     },
     "execution_count": 45,
     "metadata": {},
     "output_type": "execute_result"
    }
   ],
   "source": [
    "x = 3\n",
    "pn = 1 if x>=0 else -1\n",
    "pn"
   ]
  },
  {
   "attachments": {},
   "cell_type": "markdown",
   "metadata": {},
   "source": [
    "### Vectors and matrices"
   ]
  },
  {
   "cell_type": "code",
   "execution_count": 47,
   "metadata": {},
   "outputs": [
    {
     "data": {
      "text/plain": [
       "[0, 0, 0, 0, 0]"
      ]
     },
     "execution_count": 47,
     "metadata": {},
     "output_type": "execute_result"
    }
   ],
   "source": [
    "v=[0] * 5\n",
    "v"
   ]
  },
  {
   "cell_type": "code",
   "execution_count": 49,
   "metadata": {},
   "outputs": [
    {
     "data": {
      "text/plain": [
       "[[0, 0, 0], [0, 0, 0], [0, 0, 0]]"
      ]
     },
     "execution_count": 49,
     "metadata": {},
     "output_type": "execute_result"
    }
   ],
   "source": [
    "M = [[0] * 3] * 3\n",
    "M"
   ]
  },
  {
   "cell_type": "code",
   "execution_count": 50,
   "metadata": {},
   "outputs": [
    {
     "data": {
      "text/plain": [
       "[[4, 0, 0], [4, 0, 0], [4, 0, 0]]"
      ]
     },
     "execution_count": 50,
     "metadata": {},
     "output_type": "execute_result"
    }
   ],
   "source": [
    "M[0][0] = 4\n",
    "M"
   ]
  },
  {
   "cell_type": "code",
   "execution_count": 54,
   "metadata": {},
   "outputs": [
    {
     "data": {
      "text/plain": [
       "[[4, 0, 0], [0, 0, 0], [0, 0, 0]]"
      ]
     },
     "execution_count": 54,
     "metadata": {},
     "output_type": "execute_result"
    }
   ],
   "source": [
    "# Other way\n",
    "M = [[0] * 3 for _ in range(3)]\n",
    "M[0][0] = 4\n",
    "M"
   ]
  },
  {
   "cell_type": "code",
   "execution_count": null,
   "metadata": {},
   "outputs": [],
   "source": []
  },
  {
   "cell_type": "code",
   "execution_count": null,
   "metadata": {},
   "outputs": [],
   "source": []
  }
 ],
 "metadata": {
  "kernelspec": {
   "display_name": "Python 3",
   "language": "python",
   "name": "python3"
  },
  "language_info": {
   "codemirror_mode": {
    "name": "ipython",
    "version": 3
   },
   "file_extension": ".py",
   "mimetype": "text/x-python",
   "name": "python",
   "nbconvert_exporter": "python",
   "pygments_lexer": "ipython3",
   "version": "3.10.8 (main, Nov  1 2022, 14:18:21) [GCC 12.2.0]"
  },
  "orig_nbformat": 4,
  "vscode": {
   "interpreter": {
    "hash": "916dbcbb3f70747c44a77c7bcd40155683ae19c65e1c03b4aa3499c5328201f1"
   }
  }
 },
 "nbformat": 4,
 "nbformat_minor": 2
}
